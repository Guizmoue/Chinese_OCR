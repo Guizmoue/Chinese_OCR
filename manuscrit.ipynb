{
 "cells": [
  {
   "cell_type": "code",
   "execution_count": 3,
   "metadata": {},
   "outputs": [],
   "source": [
    "import pandas as pd\n"
   ]
  },
  {
   "cell_type": "code",
   "execution_count": 17,
   "metadata": {},
   "outputs": [],
   "source": [
    "# NE RETRANSCRIT PAS BIEN LES CARACTERES CHINOIS DANS LES NOMS DE DOSSIER\n",
    "# path = kagglehub.dataset_download(\"pascalbliem/handwritten-chinese-character-hanzi-datasets\", )\n",
    "# print(\"Path to dataset files:\", path)"
   ]
  },
  {
   "cell_type": "code",
   "execution_count": 15,
   "metadata": {},
   "outputs": [
    {
     "name": "stdout",
     "output_type": "stream",
     "text": [
      "7330 7330\n"
     ]
    }
   ],
   "source": [
    "import os\n",
    "import shutil\n",
    "from sklearn.model_selection import train_test_split\n",
    "\n",
    "path = \"./data/handwritten-chinese-character-hanzi-datasets\"\n",
    "\n",
    "# Chemins des dossiers source et destination\n",
    "train_path = path+\"/CASIA-HWDB_Train/Train/\"\n",
    "test_path = path+ \"/CASIA-HWDB_Test/Test/\"\n",
    "\n",
    "train_chinese = os.listdir(train_path)\n",
    "test_chinese = os.listdir(test_path)\n",
    "\n",
    "print(len(train_chinese), len(test_chinese))"
   ]
  },
  {
   "cell_type": "code",
   "execution_count": 25,
   "metadata": {},
   "outputs": [],
   "source": [
    "def get_dataframe(folderpath: str) -> pd.DataFrame:\n",
    "    data = {\"character\": [], \"image_path\": []}\n",
    "    for folder in os.listdir(folderpath):\n",
    "        folder_path = os.path.join(folderpath, folder)\n",
    "        char = folder.split(\"/\")[-1]\n",
    "        for image in os.listdir(folder_path):\n",
    "            image_path = os.path.join(folder_path, image)\n",
    "            data[\"character\"].append(char)\n",
    "            data[\"image_path\"].append(image_path)\n",
    "    df = pd.DataFrame(data)\n",
    "    return df"
   ]
  },
  {
   "cell_type": "code",
   "execution_count": 28,
   "metadata": {},
   "outputs": [],
   "source": [
    "df_train = get_dataframe(train_path)\n",
    "df_test = get_dataframe(test_path)\n",
    "\n",
    "df_train.to_csv(\"data/train.csv\", index=False)\n",
    "df_test.to_csv(\"data/test.csv\", index=False)"
   ]
  },
  {
   "cell_type": "code",
   "execution_count": null,
   "metadata": {},
   "outputs": [],
   "source": []
  }
 ],
 "metadata": {
  "kernelspec": {
   "display_name": "venv_documents_structure",
   "language": "python",
   "name": "python3"
  },
  "language_info": {
   "codemirror_mode": {
    "name": "ipython",
    "version": 3
   },
   "file_extension": ".py",
   "mimetype": "text/x-python",
   "name": "python",
   "nbconvert_exporter": "python",
   "pygments_lexer": "ipython3",
   "version": "3.9.18"
  }
 },
 "nbformat": 4,
 "nbformat_minor": 2
}
